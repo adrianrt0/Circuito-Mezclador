{
 "cells": [
  {
   "cell_type": "markdown",
   "metadata": {},
   "source": [
    "# <span style=\"color:#FFF; background-color:#008000; font-weight:bold; padding:6px;\"> $\\enspace Escuela \\enspace de \\enspace Ingenieria \\enspace de \\enspace Sistemas \\enspace$</span>\n",
    "# CIRCUITO MESCLADOR  \n",
    "\n",
    "**Integrantes: **\n",
    "\n",
    "** 2191636 - Santiago Peña **\n",
    "\n",
    "** 2152884 - Adrián Romero **\n",
    "\n",
    "** 2182032 - Felipe Cepeda **\n",
    "\n",
    "**Profesor: Luis Carlos Guayacán**\n",
    "\n",
    "\n"
   ]
  },
  {
   "cell_type": "markdown",
   "metadata": {},
   "source": [
    "<h2><span style=\"color:#FFF; background-color:#F00; font-weight:bold; padding:4px;\">¡IMPORTANTE!</span> Ejecute esta celda para iniciar la actividad</h2>"
   ]
  },
  {
   "cell_type": "code",
   "execution_count": 1,
   "metadata": {
    "collapsed": true
   },
   "outputs": [],
   "source": [
    "!chmod 777 empaquetar.sh run utils/*"
   ]
  },
  {
   "cell_type": "markdown",
   "metadata": {},
   "source": [
    "# Leyendas del autómata"
   ]
  },
  {
   "cell_type": "markdown",
   "metadata": {},
   "source": [
    "$El \\enspace autómata \\enspace presente \\enspace se \\enspace rije \\enspace por \\enspace el \\enspace siguiente \\enspace alfabeto: \\Sigma = {\\{s,r,1,2,3,e,c,y,a,m,v,f,i,p,p_1,p_2\\}}$ \n",
    "\n",
    "$donde:$\n",
    "\n",
    "$s ---> salida\\enspace$\n",
    "\n",
    "$r ---> revolver\\enspace /\\enspace mezlcar \\enspace$\n",
    "\n",
    "$1 ---> milo\\enspace$\n",
    "\n",
    "$2 ---> capuchino\\enspace$\n",
    "\n",
    "$3 ---> café\\enspace$\n",
    "\n",
    "$e ---> volver\\enspace$\n",
    "\n",
    "$c ---> suministro\\enspace café$\n",
    "\n",
    "$y ---> suministro \\enspace leche\\enspace$\n",
    "\n",
    "$a ---> suministro \\enspace agua \\enspace$\n",
    "\n",
    "$m ---> suministro \\enspace milo \\enspace$\n",
    "\n",
    "$v ---> vacío \\enspace$\n",
    "\n",
    "$f ---> tanque \\enspace lleno \\enspace$\n",
    "\n",
    "$i ---> recursos \\enspace insuficientes \\enspace$\n",
    "\n",
    "$p ---> 25\\%\\ \\enspace concentración \\enspace $\n",
    "\n",
    "$p1 ---> 50\\%\\ \\enspace concentración \\enspace $\n",
    "\n",
    "$p2 --> 75\\%\\ \\enspace concentración \\enspace$\n",
    "\n",
    "$ Con\\enspace un\\enspace conjunto\\enspace de\\enspace estados :$\n",
    "\n",
    "$Q = {\\{ q0,\\enspace q1,\\enspace q2,\\enspace q3,\\enspace q4,\\enspace q5,\\enspace q6,\\enspace q7,\\enspace q8,\\enspace q9,\\enspace q10,\\enspace q11,\\enspace q12,\\enspace q13,\\enspace q14,\\enspace q15,\\enspace q16,\\enspace q17,\\enspace q18,\\enspace q19\\}} $\n",
    "\n",
    "\n",
    "$Su\\enspace conjunto\\enspace de\\enspace estados \\enspace de\\enspace aceptación\\enspace son:$\n",
    "\n",
    "$F = {\\{q19\\}}$"
   ]
  },
  {
   "cell_type": "markdown",
   "metadata": {},
   "source": [
    "**Diagrama de transiciones:**"
   ]
  },
  {
   "cell_type": "markdown",
   "metadata": {},
   "source": [
    "<img src=\"files/PROYECTO.PNG\" width=\"500\" />"
   ]
  },
  {
   "cell_type": "markdown",
   "metadata": {},
   "source": [
    "**Implementación del autómata con automata-lib**:"
   ]
  },
  {
   "cell_type": "code",
   "execution_count": 10,
   "metadata": {
    "collapsed": false
   },
   "outputs": [],
   "source": [
    "def Circuito_Mezclador():\n",
    "    from automatalib.fa.dfa import DFA\n",
    "    d = DFA(\n",
    "        states= {'q0','q1','q2','q3','q4','q5','q6','q7','q8','q9','q10','q11','q12','q13','q14','q15','q16','q17','q18','q19'},\n",
    "        input_symbols= {'s','r','1','2','3','e','c','y','a','m','v','f','i','p','p1','p2'},\n",
    "        transitions= {\n",
    "            'q0' : {'1' : 'q1' , '2' : 'q7' , '3' : 'q13' },\n",
    "            'q1' : {'y' : 'q3' , 'm' : 'q2', 'e' : 'q0'},\n",
    "            'q2' : {'f' : 'q4' , 'v' : 'q1'},\n",
    "            'q3' : {'f' : 'q5' , 'v' : 'q1' },\n",
    "            'q4' : {'p1': 'q6'},\n",
    "            'q5' : {'p1': 'q6'},\n",
    "            'q6' : {'i' : 'q1' , 's' : 'q19', 'r' : 'q6'},\n",
    "            'q7' : {'y' : 'q8' , 'c' : 'q9' , 'e' : 'q0' },\n",
    "            'q8' : {'f' : 'q11', 'v' : 'q7'  },\n",
    "            'q9' : {'f' : 'q10', 'v' : 'q7'  },\n",
    "            'q10': {'p' : 'q12'},\n",
    "            'q11': {'p2': 'q12'},\n",
    "            'q12': {'i' : 'q7' , 's' : 'q19' , 'r' : 'q12'},\n",
    "            'q13': {'a' : 'q14', 'c' : 'q15' , 'e' : 'q0' },\n",
    "            'q14': {'f' : 'q17', 'v' : 'q13'},\n",
    "            'q15': {'f' : 'q16', 'v' : 'q13'},\n",
    "            'q16': {'p2': 'q18'},\n",
    "            'q17': {'p': 'q18'},\n",
    "            'q18': {'r': 'q18' , 's' : 'q19'}\n",
    "            'q19':{}\n",
    "        },\n",
    "        initial_state='q0',\n",
    "        final_states= {'q19'}\n",
    "    )\n",
    "    return d\n",
    "\n",
    "import urllib, urllib.parse, inspect \n",
    "src1 = urllib.parse.quote_plus(inspect.getsource(punto1))"
   ]
  },
  {
   "cell_type": "markdown",
   "metadata": {},
   "source": [
    "|Palabras Aceptadas $\\hspace{2.0cm}$ | Palabras rechazadas $\\hspace{2.0cm}$ |\n",
    "|------------------------------------|--------------------------------------|\n",
    "|$1\\enspace m\\enspace f\\enspace p1\\enspace i\\enspace y\\enspace f\\enspace p1\\enspace r\\enspace s\\hspace{0.1cm}$        |$1\\enspace m\\enspace f\\enspace p1\\enspace i\\enspace y\\enspace v\\enspace p1\\enspace r\\enspace s\\hspace{0.1cm}       $              |\n",
    "|$1\\enspace y\\enspace f\\enspace p1\\enspace i\\enspace m\\enspace f\\enspace p1\\enspace r\\enspace s$                   |$1\\enspace m\\enspace f\\enspace p1\\enspace i\\enspace y\\enspace f\\enspace r\\enspace s\\hspace{0.1cm}            $     |\n",
    "|$2\\enspace c\\enspace f\\enspace p\\enspace i\\enspace y\\enspace f\\enspace p2\\enspace r\\enspace s$                         |$2\\enspace c\\enspace f\\enspace p\\enspace i\\enspace y\\enspace f\\enspace p2\\enspace r\\enspace s\\hspace{0.1cm} $                |\n",
    "|$2\\enspace y\\enspace f\\enspace p2\\enspace i\\enspace c\\enspace f\\enspace p\\enspace r\\enspace s $                 |$2\\enspace c\\enspace v\\enspace p\\enspace i\\enspace y\\enspace v\\enspace p2\\enspace r\\enspace s\\hspace{0.1cm}$                |\n",
    "|$3\\enspace c\\enspace f\\enspace p2\\enspace i\\enspace a\\enspace f\\enspace p\\enspace r\\enspace s  $                   |$1\\enspace c\\enspace f\\enspace p\\enspace i\\enspace y\\enspace f\\enspace p2\\enspace r\\enspace s\\hspace{0.1cm}$                |\n",
    "|$3\\enspace a\\enspace f\\enspace p\\enspace i\\enspace c\\enspace f\\enspace p2\\enspace r\\enspace s  $                   |$3\\enspace c\\enspace f\\enspace p\\enspace i\\enspace y\\enspace f\\enspace p2\\enspace r\\enspace s\\hspace{0.1cm}$                |"
   ]
  },
  {
   "cell_type": "markdown",
   "metadata": {},
   "source": [
    "<div style=\"height:100px;\"></div>"
   ]
  },
  {
   "cell_type": "markdown",
   "metadata": {},
   "source": [
    "<div style=\"height:100px;\"></div>"
   ]
  },
  {
   "cell_type": "code",
   "execution_count": 4,
   "metadata": {
    "collapsed": false
   },
   "outputs": [
    {
     "name": "stdout",
     "output_type": "stream",
     "text": [
      "¡PERFECTO!, el archivo   'PROYECTO_p01.zip'   se creó correctamente :D\r\n"
     ]
    }
   ],
   "source": [
    "!./empaquetar.sh 'PROYECTO'"
   ]
  },
  {
   "cell_type": "code",
   "execution_count": null,
   "metadata": {
    "collapsed": true
   },
   "outputs": [],
   "source": []
  }
 ],
 "metadata": {
  "kernelspec": {
   "display_name": "Python 3",
   "language": "python",
   "name": "python3"
  },
  "language_info": {
   "codemirror_mode": {
    "name": "ipython",
    "version": 3
   },
   "file_extension": ".py",
   "mimetype": "text/x-python",
   "name": "python",
   "nbconvert_exporter": "python",
   "pygments_lexer": "ipython3",
   "version": "3.6.2"
  }
 },
 "nbformat": 4,
 "nbformat_minor": 1
}
